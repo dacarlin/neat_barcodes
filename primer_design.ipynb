{
 "cells": [
  {
   "cell_type": "code",
   "execution_count": 65,
   "metadata": {
    "collapsed": true
   },
   "outputs": [],
   "source": [
    "# generate all possible 8-mer DNA sequences without homopolymers\n",
    "\n",
    "from itertools import product\n",
    "from primer3 import calcHomodimer, calcHeterodimer, calcTm\n",
    "import numpy as np "
   ]
  },
  {
   "cell_type": "code",
   "execution_count": 66,
   "metadata": {
    "collapsed": true
   },
   "outputs": [],
   "source": [
    "alphabet = 'ATCG'"
   ]
  },
  {
   "cell_type": "code",
   "execution_count": 67,
   "metadata": {
    "collapsed": true
   },
   "outputs": [],
   "source": [
    "def has_homopolymers( sequence ):\n",
    "    for i in range( len( sequence ) - 1 ):\n",
    "        if sequence[ i ] == sequence[ i + 1 ]:\n",
    "            return True \n",
    "    return False"
   ]
  },
  {
   "cell_type": "code",
   "execution_count": 68,
   "metadata": {
    "collapsed": false
   },
   "outputs": [],
   "source": [
    "barcodes = []\n",
    "for combo in product( alphabet, repeat=8 ):\n",
    "    if not has_homopolymers( combo ):\n",
    "        barcodes.append( ''.join( combo ) )"
   ]
  },
  {
   "cell_type": "code",
   "execution_count": 69,
   "metadata": {
    "collapsed": true
   },
   "outputs": [],
   "source": [
    "# primer sequences for our test run are \n",
    "# T7 (forward): 5'-TAATACGACTCACTATAGGG-3'\n",
    "# T7term (reverse): 5'-GCTAGTTATTGCTCAGCGG-3'\n",
    "# we will add barcodes to the 5' end of both primers \n",
    "# assume the Tm of the T7 primers is good as is"
   ]
  },
  {
   "cell_type": "code",
   "execution_count": 70,
   "metadata": {
    "collapsed": true
   },
   "outputs": [],
   "source": [
    "# calculate the propensity of the primers to dimerize "
   ]
  },
  {
   "cell_type": "code",
   "execution_count": 71,
   "metadata": {
    "collapsed": false
   },
   "outputs": [],
   "source": [
    "fwd_primers = [ b + 'TAATACGACTCACTATAGGG' for b in barcodes ]\n",
    "rev_primers = [ b + 'GCTAGTTATTGCTCAGCGG' for b in barcodes ]"
   ]
  },
  {
   "cell_type": "code",
   "execution_count": 72,
   "metadata": {
    "collapsed": false
   },
   "outputs": [
    {
     "data": {
      "text/plain": [
       "8748"
      ]
     },
     "execution_count": 72,
     "metadata": {},
     "output_type": "execute_result"
    }
   ],
   "source": [
    "len( fwd_primers )"
   ]
  },
  {
   "cell_type": "code",
   "execution_count": 73,
   "metadata": {
    "collapsed": false
   },
   "outputs": [],
   "source": [
    "# exclude homodimers \n",
    "# fwd_primers = list( filter( lambda x: calcHomodimer( x ).structure_found, fwd_primers ) ) \n",
    "# rev_primers = list( filter( lambda x: calcHomodimer( x ).structure_found, rev_primers ) ) \n",
    "# print( len( fwd_primers) )\n",
    "# print( len( rev_primers) )\n",
    "# I guess there are none "
   ]
  },
  {
   "cell_type": "code",
   "execution_count": 74,
   "metadata": {
    "collapsed": false
   },
   "outputs": [
    {
     "name": "stdout",
     "output_type": "stream",
     "text": [
      "CAGTGCTCTAATACGACTCACTATAGGG 56.1394819706731\n",
      "TGACTCACTAATACGACTCACTATAGGG 55.12304248723251\n",
      "GTACACTATAATACGACTCACTATAGGG 52.26747484354979\n",
      "CTGTCTGCTAATACGACTCACTATAGGG 56.1394819706731\n",
      "CTATACACTAATACGACTCACTATAGGG 52.04750495254456\n",
      "CTGAGCTGTAATACGACTCACTATAGGG 56.1394819706731\n",
      "CTATCTCATAATACGACTCACTATAGGG 52.082236209162545\n",
      "CACTCATATAATACGACTCACTATAGGG 52.511468298241994\n",
      "GAGCTGCATAATACGACTCACTATAGGG 56.65092191994347\n",
      "ACTCGATGTAATACGACTCACTATAGGG 55.45717734260154\n",
      "CATGTACTTAATACGACTCACTATAGGG 52.888752428114344\n",
      "AGACGTCATAATACGACTCACTATAGGG 55.45717734260154\n",
      "GCGTGAGCTAATACGACTCACTATAGGG 58.37847663311709\n",
      "TGTGACATTAATACGACTCACTATAGGG 54.26617062685153\n",
      "ACGCGCTCTAATACGACTCACTATAGGG 59.42157635248509\n",
      "ACGATATGTAATACGACTCACTATAGGG 53.76986052227312\n",
      "CACTCTGATAATACGACTCACTATAGGG 54.19908919416531\n",
      "ACGCGATCTAATACGACTCACTATAGGG 57.51109067387051\n",
      "GCGCGCTCTAATACGACTCACTATAGGG 60.368735485033255\n",
      "TCTAGTGCTAATACGACTCACTATAGGG 54.965283534302614\n"
     ]
    }
   ],
   "source": [
    "# OK, we'll pick 10 random ones\n",
    "for p1 in np.random.choice( fwd_primers, 20 ):\n",
    "    print( p1, calcTm( p1 ) )"
   ]
  },
  {
   "cell_type": "code",
   "execution_count": 75,
   "metadata": {
    "collapsed": false
   },
   "outputs": [
    {
     "name": "stdout",
     "output_type": "stream",
     "text": [
      "GCTAGAGTGCTAGTTATTGCTCAGCGG 59.34929611305705\n",
      "TGAGACAGGCTAGTTATTGCTCAGCGG 60.32844922553966\n",
      "GTGTGCTCGCTAGTTATTGCTCAGCGG 61.94775908524821\n",
      "GATACATCGCTAGTTATTGCTCAGCGG 57.91901952521704\n",
      "CTACACGAGCTAGTTATTGCTCAGCGG 59.35466609610569\n",
      "AGCTCGCGGCTAGTTATTGCTCAGCGG 64.61655885757227\n",
      "CACAGACAGCTAGTTATTGCTCAGCGG 59.710113972490376\n",
      "GCTGCTCTGCTAGTTATTGCTCAGCGG 61.75827567390911\n",
      "TGTGAGATGCTAGTTATTGCTCAGCGG 59.02895674750073\n",
      "TCATGCTCGCTAGTTATTGCTCAGCGG 61.0980801077701\n",
      "TGCTGCGAGCTAGTTATTGCTCAGCGG 63.040402296072784\n",
      "ATGTATAGGCTAGTTATTGCTCAGCGG 56.652792706647006\n",
      "CGTGAGCAGCTAGTTATTGCTCAGCGG 61.74818792158243\n",
      "CTGTGATGGCTAGTTATTGCTCAGCGG 59.759433403576566\n",
      "GCGATGTAGCTAGTTATTGCTCAGCGG 59.86634175470101\n",
      "TGTCACGAGCTAGTTATTGCTCAGCGG 60.78944845485432\n",
      "GAGCTATAGCTAGTTATTGCTCAGCGG 57.225119974727136\n",
      "ATGTCTGAGCTAGTTATTGCTCAGCGG 58.81749818133778\n",
      "CTAGCGTCGCTAGTTATTGCTCAGCGG 61.386657036378836\n",
      "AGAGTGTCGCTAGTTATTGCTCAGCGG 60.584747075965765\n"
     ]
    }
   ],
   "source": [
    "# OK, we'll pick 10 random ones\n",
    "for p2 in np.random.choice( rev_primers, 20 ):\n",
    "    print( p2, calcTm( p2 ) )"
   ]
  },
  {
   "cell_type": "code",
   "execution_count": null,
   "metadata": {
    "collapsed": true
   },
   "outputs": [],
   "source": []
  }
 ],
 "metadata": {
  "kernelspec": {
   "display_name": "Python 3",
   "language": "python",
   "name": "python3"
  },
  "language_info": {
   "codemirror_mode": {
    "name": "ipython",
    "version": 3
   },
   "file_extension": ".py",
   "mimetype": "text/x-python",
   "name": "python",
   "nbconvert_exporter": "python",
   "pygments_lexer": "ipython3",
   "version": "3.6.0"
  }
 },
 "nbformat": 4,
 "nbformat_minor": 2
}
